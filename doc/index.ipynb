{
 "cells": [
  {
   "cell_type": "raw",
   "id": "20915c70",
   "metadata": {
    "raw_mimetype": "text/restructuredtext"
   },
   "source": [
    "Coffeine: Covariance Data Frames for Predictive M/EEG Pipelines\n",
    "==============================================================="
   ]
  },
  {
   "cell_type": "markdown",
   "id": "fba6e8ad",
   "metadata": {},
   "source": [
    "## Covariances in Data Frames for predictive modeling\n",
    "\n",
    "Coffeine is designed for building biomedical prediction models from M/EEG signals. The library provides a high-level interface facilitating the use of M/EEG covariance matrix as representation of the signal. The methods implemented here make use of tools and concepts implemented in [PyRiemann](https://pyriemann.readthedocs.io/). The API is fully compatible with [scikit-learn](https://scikit-learn.org/))."
   ]
  },
  {
   "cell_type": "code",
   "execution_count": 1,
   "id": "39898548",
   "metadata": {
    "nbsphinx": "hidden"
   },
   "outputs": [],
   "source": [
    "# this is a hidden cell (see metadata)\n",
    "import mne\n",
    "mne.utils.set_log_level('critical')"
   ]
  },
  {
   "cell_type": "code",
   "execution_count": 2,
   "id": "18fb6cda",
   "metadata": {},
   "outputs": [
    {
     "data": {
      "text/html": [
       "<style>#sk-container-id-1 {color: black;}#sk-container-id-1 pre{padding: 0;}#sk-container-id-1 div.sk-toggleable {background-color: white;}#sk-container-id-1 label.sk-toggleable__label {cursor: pointer;display: block;width: 100%;margin-bottom: 0;padding: 0.3em;box-sizing: border-box;text-align: center;}#sk-container-id-1 label.sk-toggleable__label-arrow:before {content: \"▸\";float: left;margin-right: 0.25em;color: #696969;}#sk-container-id-1 label.sk-toggleable__label-arrow:hover:before {color: black;}#sk-container-id-1 div.sk-estimator:hover label.sk-toggleable__label-arrow:before {color: black;}#sk-container-id-1 div.sk-toggleable__content {max-height: 0;max-width: 0;overflow: hidden;text-align: left;background-color: #f0f8ff;}#sk-container-id-1 div.sk-toggleable__content pre {margin: 0.2em;color: black;border-radius: 0.25em;background-color: #f0f8ff;}#sk-container-id-1 input.sk-toggleable__control:checked~div.sk-toggleable__content {max-height: 200px;max-width: 100%;overflow: auto;}#sk-container-id-1 input.sk-toggleable__control:checked~label.sk-toggleable__label-arrow:before {content: \"▾\";}#sk-container-id-1 div.sk-estimator input.sk-toggleable__control:checked~label.sk-toggleable__label {background-color: #d4ebff;}#sk-container-id-1 div.sk-label input.sk-toggleable__control:checked~label.sk-toggleable__label {background-color: #d4ebff;}#sk-container-id-1 input.sk-hidden--visually {border: 0;clip: rect(1px 1px 1px 1px);clip: rect(1px, 1px, 1px, 1px);height: 1px;margin: -1px;overflow: hidden;padding: 0;position: absolute;width: 1px;}#sk-container-id-1 div.sk-estimator {font-family: monospace;background-color: #f0f8ff;border: 1px dotted black;border-radius: 0.25em;box-sizing: border-box;margin-bottom: 0.5em;}#sk-container-id-1 div.sk-estimator:hover {background-color: #d4ebff;}#sk-container-id-1 div.sk-parallel-item::after {content: \"\";width: 100%;border-bottom: 1px solid gray;flex-grow: 1;}#sk-container-id-1 div.sk-label:hover label.sk-toggleable__label {background-color: #d4ebff;}#sk-container-id-1 div.sk-serial::before {content: \"\";position: absolute;border-left: 1px solid gray;box-sizing: border-box;top: 0;bottom: 0;left: 50%;z-index: 0;}#sk-container-id-1 div.sk-serial {display: flex;flex-direction: column;align-items: center;background-color: white;padding-right: 0.2em;padding-left: 0.2em;position: relative;}#sk-container-id-1 div.sk-item {position: relative;z-index: 1;}#sk-container-id-1 div.sk-parallel {display: flex;align-items: stretch;justify-content: center;background-color: white;position: relative;}#sk-container-id-1 div.sk-item::before, #sk-container-id-1 div.sk-parallel-item::before {content: \"\";position: absolute;border-left: 1px solid gray;box-sizing: border-box;top: 0;bottom: 0;left: 50%;z-index: -1;}#sk-container-id-1 div.sk-parallel-item {display: flex;flex-direction: column;z-index: 1;position: relative;background-color: white;}#sk-container-id-1 div.sk-parallel-item:first-child::after {align-self: flex-end;width: 50%;}#sk-container-id-1 div.sk-parallel-item:last-child::after {align-self: flex-start;width: 50%;}#sk-container-id-1 div.sk-parallel-item:only-child::after {width: 0;}#sk-container-id-1 div.sk-dashed-wrapped {border: 1px dashed gray;margin: 0 0.4em 0.5em 0.4em;box-sizing: border-box;padding-bottom: 0.4em;background-color: white;}#sk-container-id-1 div.sk-label label {font-family: monospace;font-weight: bold;display: inline-block;line-height: 1.2em;}#sk-container-id-1 div.sk-label-container {text-align: center;}#sk-container-id-1 div.sk-container {/* jupyter's `normalize.less` sets `[hidden] { display: none; }` but bootstrap.min.css set `[hidden] { display: none !important; }` so we also need the `!important` here to be able to override the default hidden behavior on the sphinx rendered scikit-learn.org. See: https://github.com/scikit-learn/scikit-learn/issues/21755 */display: inline-block !important;position: relative;}#sk-container-id-1 div.sk-text-repr-fallback {display: none;}</style><div id=\"sk-container-id-1\" class=\"sk-top-container\"><div class=\"sk-text-repr-fallback\"><pre>Pipeline(steps=[(&#x27;columntransformer&#x27;,\n",
       "                 ColumnTransformer(remainder=&#x27;passthrough&#x27;,\n",
       "                                   transformers=[(&#x27;pipeline-1&#x27;,\n",
       "                                                  Pipeline(steps=[(&#x27;projcommonspace&#x27;,\n",
       "                                                                   ProjCommonSpace(reg=1e-05)),\n",
       "                                                                  (&#x27;riemann&#x27;,\n",
       "                                                                   Riemann())]),\n",
       "                                                  &#x27;delta&#x27;),\n",
       "                                                 (&#x27;pipeline-2&#x27;,\n",
       "                                                  Pipeline(steps=[(&#x27;projcommonspace&#x27;,\n",
       "                                                                   ProjCommonSpace(reg=1e-05)),\n",
       "                                                                  (&#x27;riemann&#x27;,\n",
       "                                                                   Riemann())]),\n",
       "                                                  &#x27;theta&#x27;),\n",
       "                                                 (&#x27;pipeline-3&#x27;,\n",
       "                                                  Pipeline(steps=[(&#x27;projc...\n",
       "       1.38488637e+03, 1.66810054e+03, 2.00923300e+03, 2.42012826e+03,\n",
       "       2.91505306e+03, 3.51119173e+03, 4.22924287e+03, 5.09413801e+03,\n",
       "       6.13590727e+03, 7.39072203e+03, 8.90215085e+03, 1.07226722e+04,\n",
       "       1.29154967e+04, 1.55567614e+04, 1.87381742e+04, 2.25701972e+04,\n",
       "       2.71858824e+04, 3.27454916e+04, 3.94420606e+04, 4.75081016e+04,\n",
       "       5.72236766e+04, 6.89261210e+04, 8.30217568e+04, 1.00000000e+05])))])</pre><b>In a Jupyter environment, please rerun this cell to show the HTML representation or trust the notebook. <br />On GitHub, the HTML representation is unable to render, please try loading this page with nbviewer.org.</b></div><div class=\"sk-container\" hidden><div class=\"sk-item sk-dashed-wrapped\"><div class=\"sk-label-container\"><div class=\"sk-label sk-toggleable\"><input class=\"sk-toggleable__control sk-hidden--visually\" id=\"sk-estimator-id-1\" type=\"checkbox\" ><label for=\"sk-estimator-id-1\" class=\"sk-toggleable__label sk-toggleable__label-arrow\">Pipeline</label><div class=\"sk-toggleable__content\"><pre>Pipeline(steps=[(&#x27;columntransformer&#x27;,\n",
       "                 ColumnTransformer(remainder=&#x27;passthrough&#x27;,\n",
       "                                   transformers=[(&#x27;pipeline-1&#x27;,\n",
       "                                                  Pipeline(steps=[(&#x27;projcommonspace&#x27;,\n",
       "                                                                   ProjCommonSpace(reg=1e-05)),\n",
       "                                                                  (&#x27;riemann&#x27;,\n",
       "                                                                   Riemann())]),\n",
       "                                                  &#x27;delta&#x27;),\n",
       "                                                 (&#x27;pipeline-2&#x27;,\n",
       "                                                  Pipeline(steps=[(&#x27;projcommonspace&#x27;,\n",
       "                                                                   ProjCommonSpace(reg=1e-05)),\n",
       "                                                                  (&#x27;riemann&#x27;,\n",
       "                                                                   Riemann())]),\n",
       "                                                  &#x27;theta&#x27;),\n",
       "                                                 (&#x27;pipeline-3&#x27;,\n",
       "                                                  Pipeline(steps=[(&#x27;projc...\n",
       "       1.38488637e+03, 1.66810054e+03, 2.00923300e+03, 2.42012826e+03,\n",
       "       2.91505306e+03, 3.51119173e+03, 4.22924287e+03, 5.09413801e+03,\n",
       "       6.13590727e+03, 7.39072203e+03, 8.90215085e+03, 1.07226722e+04,\n",
       "       1.29154967e+04, 1.55567614e+04, 1.87381742e+04, 2.25701972e+04,\n",
       "       2.71858824e+04, 3.27454916e+04, 3.94420606e+04, 4.75081016e+04,\n",
       "       5.72236766e+04, 6.89261210e+04, 8.30217568e+04, 1.00000000e+05])))])</pre></div></div></div><div class=\"sk-serial\"><div class=\"sk-item sk-dashed-wrapped\"><div class=\"sk-label-container\"><div class=\"sk-label sk-toggleable\"><input class=\"sk-toggleable__control sk-hidden--visually\" id=\"sk-estimator-id-2\" type=\"checkbox\" ><label for=\"sk-estimator-id-2\" class=\"sk-toggleable__label sk-toggleable__label-arrow\">columntransformer: ColumnTransformer</label><div class=\"sk-toggleable__content\"><pre>ColumnTransformer(remainder=&#x27;passthrough&#x27;,\n",
       "                  transformers=[(&#x27;pipeline-1&#x27;,\n",
       "                                 Pipeline(steps=[(&#x27;projcommonspace&#x27;,\n",
       "                                                  ProjCommonSpace(reg=1e-05)),\n",
       "                                                 (&#x27;riemann&#x27;, Riemann())]),\n",
       "                                 &#x27;delta&#x27;),\n",
       "                                (&#x27;pipeline-2&#x27;,\n",
       "                                 Pipeline(steps=[(&#x27;projcommonspace&#x27;,\n",
       "                                                  ProjCommonSpace(reg=1e-05)),\n",
       "                                                 (&#x27;riemann&#x27;, Riemann())]),\n",
       "                                 &#x27;theta&#x27;),\n",
       "                                (&#x27;pipeline-3&#x27;,\n",
       "                                 Pipeline(steps=[(&#x27;projcommonspace&#x27;,\n",
       "                                                  ProjCommonSpace(reg=1e-05)),\n",
       "                                                 (&#x27;riemann&#x27;, Riemann())]),\n",
       "                                 &#x27;alpha1&#x27;)])</pre></div></div></div><div class=\"sk-parallel\"><div class=\"sk-parallel-item\"><div class=\"sk-item\"><div class=\"sk-label-container\"><div class=\"sk-label sk-toggleable\"><input class=\"sk-toggleable__control sk-hidden--visually\" id=\"sk-estimator-id-3\" type=\"checkbox\" ><label for=\"sk-estimator-id-3\" class=\"sk-toggleable__label sk-toggleable__label-arrow\">pipeline-1</label><div class=\"sk-toggleable__content\"><pre>delta</pre></div></div></div><div class=\"sk-serial\"><div class=\"sk-item\"><div class=\"sk-serial\"><div class=\"sk-item\"><div class=\"sk-estimator sk-toggleable\"><input class=\"sk-toggleable__control sk-hidden--visually\" id=\"sk-estimator-id-4\" type=\"checkbox\" ><label for=\"sk-estimator-id-4\" class=\"sk-toggleable__label sk-toggleable__label-arrow\">ProjCommonSpace</label><div class=\"sk-toggleable__content\"><pre>ProjCommonSpace(reg=1e-05)</pre></div></div></div><div class=\"sk-item\"><div class=\"sk-estimator sk-toggleable\"><input class=\"sk-toggleable__control sk-hidden--visually\" id=\"sk-estimator-id-5\" type=\"checkbox\" ><label for=\"sk-estimator-id-5\" class=\"sk-toggleable__label sk-toggleable__label-arrow\">Riemann</label><div class=\"sk-toggleable__content\"><pre>Riemann()</pre></div></div></div></div></div></div></div></div><div class=\"sk-parallel-item\"><div class=\"sk-item\"><div class=\"sk-label-container\"><div class=\"sk-label sk-toggleable\"><input class=\"sk-toggleable__control sk-hidden--visually\" id=\"sk-estimator-id-6\" type=\"checkbox\" ><label for=\"sk-estimator-id-6\" class=\"sk-toggleable__label sk-toggleable__label-arrow\">pipeline-2</label><div class=\"sk-toggleable__content\"><pre>theta</pre></div></div></div><div class=\"sk-serial\"><div class=\"sk-item\"><div class=\"sk-serial\"><div class=\"sk-item\"><div class=\"sk-estimator sk-toggleable\"><input class=\"sk-toggleable__control sk-hidden--visually\" id=\"sk-estimator-id-7\" type=\"checkbox\" ><label for=\"sk-estimator-id-7\" class=\"sk-toggleable__label sk-toggleable__label-arrow\">ProjCommonSpace</label><div class=\"sk-toggleable__content\"><pre>ProjCommonSpace(reg=1e-05)</pre></div></div></div><div class=\"sk-item\"><div class=\"sk-estimator sk-toggleable\"><input class=\"sk-toggleable__control sk-hidden--visually\" id=\"sk-estimator-id-8\" type=\"checkbox\" ><label for=\"sk-estimator-id-8\" class=\"sk-toggleable__label sk-toggleable__label-arrow\">Riemann</label><div class=\"sk-toggleable__content\"><pre>Riemann()</pre></div></div></div></div></div></div></div></div><div class=\"sk-parallel-item\"><div class=\"sk-item\"><div class=\"sk-label-container\"><div class=\"sk-label sk-toggleable\"><input class=\"sk-toggleable__control sk-hidden--visually\" id=\"sk-estimator-id-9\" type=\"checkbox\" ><label for=\"sk-estimator-id-9\" class=\"sk-toggleable__label sk-toggleable__label-arrow\">pipeline-3</label><div class=\"sk-toggleable__content\"><pre>alpha1</pre></div></div></div><div class=\"sk-serial\"><div class=\"sk-item\"><div class=\"sk-serial\"><div class=\"sk-item\"><div class=\"sk-estimator sk-toggleable\"><input class=\"sk-toggleable__control sk-hidden--visually\" id=\"sk-estimator-id-10\" type=\"checkbox\" ><label for=\"sk-estimator-id-10\" class=\"sk-toggleable__label sk-toggleable__label-arrow\">ProjCommonSpace</label><div class=\"sk-toggleable__content\"><pre>ProjCommonSpace(reg=1e-05)</pre></div></div></div><div class=\"sk-item\"><div class=\"sk-estimator sk-toggleable\"><input class=\"sk-toggleable__control sk-hidden--visually\" id=\"sk-estimator-id-11\" type=\"checkbox\" ><label for=\"sk-estimator-id-11\" class=\"sk-toggleable__label sk-toggleable__label-arrow\">Riemann</label><div class=\"sk-toggleable__content\"><pre>Riemann()</pre></div></div></div></div></div></div></div></div><div class=\"sk-parallel-item\"><div class=\"sk-item\"><div class=\"sk-label-container\"><div class=\"sk-label sk-toggleable\"><input class=\"sk-toggleable__control sk-hidden--visually\" id=\"sk-estimator-id-12\" type=\"checkbox\" ><label for=\"sk-estimator-id-12\" class=\"sk-toggleable__label sk-toggleable__label-arrow\">remainder</label><div class=\"sk-toggleable__content\"><pre>[]</pre></div></div></div><div class=\"sk-serial\"><div class=\"sk-item\"><div class=\"sk-estimator sk-toggleable\"><input class=\"sk-toggleable__control sk-hidden--visually\" id=\"sk-estimator-id-13\" type=\"checkbox\" ><label for=\"sk-estimator-id-13\" class=\"sk-toggleable__label sk-toggleable__label-arrow\">passthrough</label><div class=\"sk-toggleable__content\"><pre>passthrough</pre></div></div></div></div></div></div></div></div><div class=\"sk-item\"><div class=\"sk-estimator sk-toggleable\"><input class=\"sk-toggleable__control sk-hidden--visually\" id=\"sk-estimator-id-14\" type=\"checkbox\" ><label for=\"sk-estimator-id-14\" class=\"sk-toggleable__label sk-toggleable__label-arrow\">StandardScaler</label><div class=\"sk-toggleable__content\"><pre>StandardScaler()</pre></div></div></div><div class=\"sk-item\"><div class=\"sk-estimator sk-toggleable\"><input class=\"sk-toggleable__control sk-hidden--visually\" id=\"sk-estimator-id-15\" type=\"checkbox\" ><label for=\"sk-estimator-id-15\" class=\"sk-toggleable__label sk-toggleable__label-arrow\">RidgeCV</label><div class=\"sk-toggleable__content\"><pre>RidgeCV(alphas=array([1.00000000e-03, 1.20450354e-03, 1.45082878e-03, 1.74752840e-03,\n",
       "       2.10490414e-03, 2.53536449e-03, 3.05385551e-03, 3.67837977e-03,\n",
       "       4.43062146e-03, 5.33669923e-03, 6.42807312e-03, 7.74263683e-03,\n",
       "       9.32603347e-03, 1.12332403e-02, 1.35304777e-02, 1.62975083e-02,\n",
       "       1.96304065e-02, 2.36448941e-02, 2.84803587e-02, 3.43046929e-02,\n",
       "       4.13201240e-02, 4.97702356e-0...\n",
       "       1.38488637e+03, 1.66810054e+03, 2.00923300e+03, 2.42012826e+03,\n",
       "       2.91505306e+03, 3.51119173e+03, 4.22924287e+03, 5.09413801e+03,\n",
       "       6.13590727e+03, 7.39072203e+03, 8.90215085e+03, 1.07226722e+04,\n",
       "       1.29154967e+04, 1.55567614e+04, 1.87381742e+04, 2.25701972e+04,\n",
       "       2.71858824e+04, 3.27454916e+04, 3.94420606e+04, 4.75081016e+04,\n",
       "       5.72236766e+04, 6.89261210e+04, 8.30217568e+04, 1.00000000e+05]))</pre></div></div></div></div></div></div></div>"
      ],
      "text/plain": [
       "Pipeline(steps=[('columntransformer',\n",
       "                 ColumnTransformer(remainder='passthrough',\n",
       "                                   transformers=[('pipeline-1',\n",
       "                                                  Pipeline(steps=[('projcommonspace',\n",
       "                                                                   ProjCommonSpace(reg=1e-05)),\n",
       "                                                                  ('riemann',\n",
       "                                                                   Riemann())]),\n",
       "                                                  'delta'),\n",
       "                                                 ('pipeline-2',\n",
       "                                                  Pipeline(steps=[('projcommonspace',\n",
       "                                                                   ProjCommonSpace(reg=1e-05)),\n",
       "                                                                  ('riemann',\n",
       "                                                                   Riemann())]),\n",
       "                                                  'theta'),\n",
       "                                                 ('pipeline-3',\n",
       "                                                  Pipeline(steps=[('projc...\n",
       "       1.38488637e+03, 1.66810054e+03, 2.00923300e+03, 2.42012826e+03,\n",
       "       2.91505306e+03, 3.51119173e+03, 4.22924287e+03, 5.09413801e+03,\n",
       "       6.13590727e+03, 7.39072203e+03, 8.90215085e+03, 1.07226722e+04,\n",
       "       1.29154967e+04, 1.55567614e+04, 1.87381742e+04, 2.25701972e+04,\n",
       "       2.71858824e+04, 3.27454916e+04, 3.94420606e+04, 4.75081016e+04,\n",
       "       5.72236766e+04, 6.89261210e+04, 8.30217568e+04, 1.00000000e+05])))])"
      ]
     },
     "execution_count": 2,
     "metadata": {},
     "output_type": "execute_result"
    }
   ],
   "source": [
    "import mne\n",
    "from coffeine import compute_coffeine, make_filter_bank_regressor\n",
    "\n",
    "# load EEG data from linguistic experiment\n",
    "eeg_fname = mne.datasets.kiloword.data_path() / \"kword_metadata-epo.fif\"\n",
    "epochs = mne.read_epochs(eeg_fname)[:50]  # 50 samples\n",
    "\n",
    "# compute covariances in different frequency bands \n",
    "X_df, feature_info = compute_coffeine(  # (defined by IPEG consortium)\n",
    "    epochs, frequencies=('ipeg', ('delta', 'theta', 'alpha1'))\n",
    ")  # ... and put results in a pandas DataFrame.\n",
    "y = epochs.metadata[\"WordFrequency\"]  # regression target\n",
    "\n",
    "# compose a pipeline\n",
    "model = make_filter_bank_regressor(method='riemann', names=X_df.columns)\n",
    "model.fit(X_df, y)"
   ]
  },
  {
   "cell_type": "code",
   "execution_count": 3,
   "id": "a03fac9b",
   "metadata": {},
   "outputs": [
    {
     "data": {
      "image/png": "[encoded data removed]",
      "text/plain": [
       "<Figure size 800x300 with 3 Axes>"
      ]
     },
     "metadata": {},
     "output_type": "display_data"
    }
   ],
   "source": [
    "import matplotlib.pyplot as plt\n",
    "\n",
    "fig, axes = plt.subplots(1, 3, figsize=(8, 3))\n",
    "for ii, name in enumerate(('delta', 'theta', 'alpha1')):\n",
    "    axes[ii].matshow(X_df[name].mean(), cmap='PuOr')\n",
    "    axes[ii].set_title(name)"
   ]
  },
  {
   "cell_type": "markdown",
   "id": "e73177ac",
   "metadata": {},
   "source": [
    "## Background\n",
    "\n",
    "For this purpose, `coffeine` uses DataFrames to handle multiple covariance matrices alongside scalar features. Vectorization and model composition functions are provided that handle composition of valid [scikit-learn](https://scikit-learn.org/) modeling pipelines from covariances alongside other types of features as inputs.\n",
    "\n",
    "The filter-bank pipelines (e.g. across multiple frequency bands or conditions) can the thought of as follows:\n",
    "\n",
    "![](https://user-images.githubusercontent.com/1908618/115611659-a6d5ab80-a2ea-11eb-935c-006cad4fc8e5.png)\n",
    "**M/EEG covariance-based modeling pipeline from [Sabbagh et al. 2020, NeuroImage](https://doi.org/10.1016/j.neuroimage.2020.116893https://doi.org/10.1016/j.neuroimage.2020.116893)**\n",
    "\n",
    "After preprocessing, covariance matrices can be ___projected___ to a subspace by spatial filtering to mitigate field spread and deal with rank deficient signals.\n",
    "Subsequently, ___vectorization___ is performed to extract column features from the variance, covariance or both.\n",
    "Every path combnining different lines in the graph describes one particular prediction model.\n",
    "The Riemannian embedding is special in mitigating field spread and providing vectorization in 1 step.\n",
    "It can be combined with dimensionality reduction in the projection step to deal with rank deficiency.\n",
    "Finally, a statistical learning algorithm can be applied.\n",
    "\n",
    "The representation, projection and vectorization steps are separately done for each frequency band (or condition)."
   ]
  },
  {
   "cell_type": "markdown",
   "id": "b5ad96af",
   "metadata": {},
   "source": [
    "## Installation of Python package\n",
    "\n",
    "<!-- To install the package, simply do: -->\n",
    "<!--  -->\n",
    "<!--   `$ pip install coffeine` -->\n",
    "\n",
    "You can clone this library, and then do:\n",
    "\n",
    "  `$ pip install -e .`\n",
    "\n",
    "Everything worked if the following command do not return any error:\n",
    "\n",
    "  `$ python -c 'import coffeine'`\n"
   ]
  },
  {
   "cell_type": "raw",
   "id": "77bb20e5",
   "metadata": {
    "raw_mimetype": "text/restructuredtext"
   },
   "source": [
    "More documentation\n",
    "------------------\n",
    ".. toctree::\n",
    "   :maxdepth: 1\n",
    "\n",
    "   Tutorials & Examples <tutorials>\n",
    "   API reference <api>"
   ]
  }
 ],
 "metadata": {
  "celltoolbar": "Edit Metadata",
  "kernelspec": {
   "display_name": "coffeine",
   "language": "python",
   "name": "coffeine"
  },
  "language_info": {
   "codemirror_mode": {
    "name": "ipython",
    "version": 3
   },
   "file_extension": ".py",
   "mimetype": "text/x-python",
   "name": "python",
   "nbconvert_exporter": "python",
   "pygments_lexer": "ipython3",
   "version": "3.9.16"
  }
 },
 "nbformat": 4,
 "nbformat_minor": 5
}
